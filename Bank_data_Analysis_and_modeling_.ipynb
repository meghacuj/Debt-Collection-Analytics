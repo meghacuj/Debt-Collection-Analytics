{
 "cells": [
  {
   "cell_type": "markdown",
   "id": "26c248ce",
   "metadata": {},
   "source": [
    "# Project Tasks:\n",
    "### Task 1: Regression discontinuity: banking recovery"
   ]
  },
  {
   "cell_type": "raw",
   "id": "886f54fd",
   "metadata": {},
   "source": [
    "After a debt has been legally declared \"uncollectable\" by a bank, the account is considered to be \"charged-off.\" But that doesn't mean the bank simply walks away from the debt. They still want to collect some of the money they are owed. The bank will score the account to assess the expected recovery amount, that is, the expected amount that the bank may be able to receive from the customer in the future (for a fixed time period such as one year). This amount is a function of the probability of the customer paying, the total debt, and other factors that impact the ability and willingness to pay.\n",
    "The bank has implemented different recovery strategies at different thresholds ($1000, $2000, etc.) where the greater the expected recovery amount, the more effort the bank puts into contacting the customer. For low recovery amounts (Level 0), the bank just adds the customer's contact information to their automatic dialer and emailing system. For higher recovery strategies, the bank incurs more costs as they leverage human resources in more efforts to contact the customer and obtain payments. Each additional level of recovery strategy requires an additional $50 per customer so that customers in the Recovery Strategy Level 1 cost the company $50 more than those in Level 0. Customers in Level 2 cost $50 more than those in Level 1, etc."
   ]
  },
  {
   "cell_type": "code",
   "execution_count": 1,
   "id": "b275206c",
   "metadata": {},
   "outputs": [],
   "source": [
    "import pandas as pd\n",
    "import numpy as np"
   ]
  },
  {
   "cell_type": "code",
   "execution_count": 2,
   "id": "c7ed51f8",
   "metadata": {},
   "outputs": [
    {
     "data": {
      "text/html": [
       "<div>\n",
       "<style scoped>\n",
       "    .dataframe tbody tr th:only-of-type {\n",
       "        vertical-align: middle;\n",
       "    }\n",
       "\n",
       "    .dataframe tbody tr th {\n",
       "        vertical-align: top;\n",
       "    }\n",
       "\n",
       "    .dataframe thead th {\n",
       "        text-align: right;\n",
       "    }\n",
       "</style>\n",
       "<table border=\"1\" class=\"dataframe\">\n",
       "  <thead>\n",
       "    <tr style=\"text-align: right;\">\n",
       "      <th></th>\n",
       "      <th>id</th>\n",
       "      <th>expected_recovery_amount</th>\n",
       "      <th>actual_recovery_amount</th>\n",
       "      <th>recovery_strategy</th>\n",
       "      <th>age</th>\n",
       "      <th>sex</th>\n",
       "    </tr>\n",
       "  </thead>\n",
       "  <tbody>\n",
       "    <tr>\n",
       "      <th>0</th>\n",
       "      <td>2030</td>\n",
       "      <td>194</td>\n",
       "      <td>263.540</td>\n",
       "      <td>Level 0 Recovery</td>\n",
       "      <td>19</td>\n",
       "      <td>Male</td>\n",
       "    </tr>\n",
       "    <tr>\n",
       "      <th>1</th>\n",
       "      <td>1150</td>\n",
       "      <td>486</td>\n",
       "      <td>416.090</td>\n",
       "      <td>Level 0 Recovery</td>\n",
       "      <td>25</td>\n",
       "      <td>Female</td>\n",
       "    </tr>\n",
       "    <tr>\n",
       "      <th>2</th>\n",
       "      <td>380</td>\n",
       "      <td>527</td>\n",
       "      <td>429.350</td>\n",
       "      <td>Level 0 Recovery</td>\n",
       "      <td>27</td>\n",
       "      <td>Male</td>\n",
       "    </tr>\n",
       "    <tr>\n",
       "      <th>3</th>\n",
       "      <td>1838</td>\n",
       "      <td>536</td>\n",
       "      <td>296.990</td>\n",
       "      <td>Level 0 Recovery</td>\n",
       "      <td>25</td>\n",
       "      <td>Male</td>\n",
       "    </tr>\n",
       "    <tr>\n",
       "      <th>4</th>\n",
       "      <td>1995</td>\n",
       "      <td>541</td>\n",
       "      <td>346.385</td>\n",
       "      <td>Level 0 Recovery</td>\n",
       "      <td>34</td>\n",
       "      <td>Male</td>\n",
       "    </tr>\n",
       "  </tbody>\n",
       "</table>\n",
       "</div>"
      ],
      "text/plain": [
       "     id  expected_recovery_amount  actual_recovery_amount recovery_strategy  \\\n",
       "0  2030                       194                 263.540  Level 0 Recovery   \n",
       "1  1150                       486                 416.090  Level 0 Recovery   \n",
       "2   380                       527                 429.350  Level 0 Recovery   \n",
       "3  1838                       536                 296.990  Level 0 Recovery   \n",
       "4  1995                       541                 346.385  Level 0 Recovery   \n",
       "\n",
       "   age     sex  \n",
       "0   19    Male  \n",
       "1   25  Female  \n",
       "2   27    Male  \n",
       "3   25    Male  \n",
       "4   34    Male  "
      ]
     },
     "execution_count": 2,
     "metadata": {},
     "output_type": "execute_result"
    }
   ],
   "source": [
    "df=pd.read_csv(\"bank_data.csv\")\n",
    "df.head()"
   ]
  },
  {
   "cell_type": "markdown",
   "id": "8d41ff59",
   "metadata": {},
   "source": [
    "### Graphical exploratory data analysis"
   ]
  },
  {
   "cell_type": "markdown",
   "id": "9d528fe2",
   "metadata": {},
   "source": [
    "pt.1)The bank has different recovery strategies at thresholds like $1000, $2000, $3000 and $5000.\n",
    "     Higher the Expected Recovery Amount,the more effort the bank puts into contacting the customer.\n",
    "     The main Focus on the First Transition (Level 0 to Level 1).\n",
    "\n",
    "pt.2)We're interested in the transition between Level 0 and Level 1, particularly when Expected Recovery Amounts are between $0      and $2000.\n",
    "     The transition happens at $1000, separating Level 0 (up to $1000) and Level 1 ($1001 to $2000).\n",
    "     \n",
    "     Level 0: Expected recovery amounts >$0 and <=$1000\n",
    "     Level 1: Expected recovery amounts >$1000 and <=$2000"
   ]
  },
  {
   "cell_type": "code",
   "execution_count": 3,
   "id": "0c9d87b9",
   "metadata": {},
   "outputs": [],
   "source": [
    "import matplotlib.pyplot as plt\n",
    "import seaborn as sns"
   ]
  },
  {
   "cell_type": "code",
   "execution_count": 4,
   "id": "6bed1986",
   "metadata": {},
   "outputs": [
    {
     "data": {
      "image/png": "[encoded data removed]",
      "text/plain": [
       "<Figure size 432x288 with 1 Axes>"
      ]
     },
     "metadata": {
      "needs_background": "light"
     },
     "output_type": "display_data"
    }
   ],
   "source": [
    "plt.scatter(df['expected_recovery_amount'], df['age'])\n",
    "plt.xlabel('Expected Recovery Amount')\n",
    "plt.ylabel('Age')\n",
    "plt.title('Age vs. Expected Recovery Amount')\n",
    "plt.show()"
   ]
  },
  {
   "cell_type": "raw",
   "id": "fa4369d6",
   "metadata": {},
   "source": [
    "Here, I see there is Sudden change in the customer's age when we go from less than $1000 to more than $1000.\n",
    "So, we can claim:\n",
    "Yes, there is an external factor related to how much money the bank is able to recover."
   ]
  },
  {
   "cell_type": "markdown",
   "id": "11687a40",
   "metadata": {},
   "source": [
    "### Statistical test: age vs. expected recovery amount"
   ]
  },
  {
   "cell_type": "code",
   "execution_count": 5,
   "id": "c7262d36",
   "metadata": {},
   "outputs": [],
   "source": [
    "## I need to import some important package \"scipy\" to find some statistical esult from the dataset.\n",
    "from scipy.stats import ttest_ind"
   ]
  },
  {
   "cell_type": "code",
   "execution_count": 6,
   "id": "7340bd40",
   "metadata": {},
   "outputs": [
    {
     "name": "stdout",
     "output_type": "stream",
     "text": [
      "T-statistic: 13.759810322222165\n",
      "p-value: 4.071778578392043e-41\n"
     ]
    }
   ],
   "source": [
    "above_1000 = df[df['expected_recovery_amount'] > 1000]['age']\n",
    "below_1000 = df[df['expected_recovery_amount'] <= 1000]['age']\n",
    "\n",
    "t_stat, p_value = ttest_ind(above_1000, below_1000)\n",
    "print(f'T-statistic: {t_stat}')\n",
    "print(f'p-value: {p_value}')\n"
   ]
  },
  {
   "cell_type": "markdown",
   "id": "f37916f4",
   "metadata": {},
   "source": [
    "Here,P-Value is extremely small. Hence, it strongly suggests the evidence against the null hypothesis.i,e  there is a significant difference in age between customers with Expected Recovery Amount above $1000 and those below $1000."
   ]
  },
  {
   "cell_type": "markdown",
   "id": "2dd6c289",
   "metadata": {},
   "source": [
    "### Statistical test: sex vs. expected recovery amount"
   ]
  },
  {
   "cell_type": "raw",
   "id": "6e91aef6",
   "metadata": {},
   "source": [
    "We want to also test that the percentage of customers that are male does not jump as well across the $1000 threshold. We can start by exploring the range of $900 to $1100 and later adjust this range"
   ]
  },
  {
   "cell_type": "code",
   "execution_count": 7,
   "id": "1e530a0c",
   "metadata": {},
   "outputs": [
    {
     "data": {
      "image/png": "[encoded data removed]",
      "text/plain": [
       "<Figure size 720x576 with 1 Axes>"
      ]
     },
     "metadata": {
      "needs_background": "light"
     },
     "output_type": "display_data"
    }
   ],
   "source": [
    "above_1000_sex = df[df['expected_recovery_amount'] > 1000]['sex']\n",
    "below_1000_sex = df[df['expected_recovery_amount'] <= 1000]['sex']\n",
    "\n",
    "plt.figure(figsize=(10,8))\n",
    "sns.countplot(x='sex', data=df)\n",
    "plt.title('distribution of males and females above and below $1000.',color='g')\n",
    "plt.show()\n",
    "\n"
   ]
  },
  {
   "cell_type": "code",
   "execution_count": 8,
   "id": "4a6b7870",
   "metadata": {},
   "outputs": [
    {
     "name": "stdout",
     "output_type": "stream",
     "text": [
      "Chi-square statistic: 2.1768676619404688\n",
      "p-value: 0.14009934427173568\n"
     ]
    }
   ],
   "source": [
    "from scipy.stats import chi2_contingency\n",
    "\n",
    "contingency_table = pd.crosstab(df['sex'], df['expected_recovery_amount'] > 1000)\n",
    "\n",
    "# Chi-square test for independence\n",
    "chi2_stat, p_value, dof, expected = chi2_contingency(contingency_table)\n",
    "print(f'Chi-square statistic: {chi2_stat}')\n",
    "print(f'p-value: {p_value}')\n"
   ]
  },
  {
   "cell_type": "markdown",
   "id": "85d941e7",
   "metadata": {},
   "source": [
    "Here,p-value is greater than 0.05,hence we can say that there is not much significant difference in the distribution of males and females above and below $1000. But as per visualization above there is small difference in the distribution.\n",
    "\n",
    "There is not much evidence to conclude a significant difference because of larger p-value. Still i can claim to be a significant change in the percentage of customers.\n"
   ]
  },
  {
   "cell_type": "code",
   "execution_count": null,
   "id": "4ffcc000",
   "metadata": {},
   "outputs": [],
   "source": []
  },
  {
   "cell_type": "markdown",
   "id": "5b4b07de",
   "metadata": {},
   "source": [
    "### Task 2: Exploratory Graphical Analysis : Recovery Amount"
   ]
  },
  {
   "cell_type": "markdown",
   "id": "ac22966c",
   "metadata": {},
   "source": [
    "Develop a scatter plot of Expected Recovery Amount (Y) vs. Actual Recovery Amount (X) for Expected Recovery Amounts between $900 to $1100. This range covers Levels 0 and 1. A key question is whether or not we see a discontinuity (jump) around the $1000 threshold."
   ]
  },
  {
   "cell_type": "code",
   "execution_count": 9,
   "id": "0c78efac",
   "metadata": {},
   "outputs": [
    {
     "data": {
      "image/png": "[encoded data removed]",
      "text/plain": [
       "<Figure size 432x288 with 1 Axes>"
      ]
     },
     "metadata": {
      "needs_background": "light"
     },
     "output_type": "display_data"
    }
   ],
   "source": [
    "\n",
    "plt.scatter(df['expected_recovery_amount'], df['actual_recovery_amount'])\n",
    "plt.xlabel('Expected Recovery Amount')\n",
    "plt.ylabel('Actual Recovery Amount')\n",
    "plt.title('Scatter Plot: Expected Recovery Amount vs. Actual Recovery Amount',color='g')\n",
    "plt.show()\n"
   ]
  },
  {
   "cell_type": "markdown",
   "id": "a0e16e52",
   "metadata": {},
   "source": [
    "### Statistical analysis: recovery amount"
   ]
  },
  {
   "cell_type": "code",
   "execution_count": 10,
   "id": "4511c673",
   "metadata": {},
   "outputs": [],
   "source": [
    "#  actual recovery amount above and below $1000 threshold\n",
    "\n",
    "above_1000_recovery = df[df['expected_recovery_amount'] > 1000]['actual_recovery_amount']\n",
    "below_1000_recovery = df[df['expected_recovery_amount'] <= 1000]['actual_recovery_amount']\n"
   ]
  },
  {
   "cell_type": "code",
   "execution_count": 11,
   "id": "999db6a2",
   "metadata": {},
   "outputs": [
    {
     "name": "stdout",
     "output_type": "stream",
     "text": [
      "Mann-Whitney U statistic: 397788.0, p-value: 1.1299595152934939e-133\n"
     ]
    }
   ],
   "source": [
    "\n",
    "from scipy.stats import mannwhitneyu\n",
    "\n",
    "statistic, p_value = mannwhitneyu(above_1000_recovery, below_1000_recovery)\n",
    "print(f'Mann-Whitney U statistic: {statistic}, p-value: {p_value}')\n"
   ]
  },
  {
   "cell_type": "markdown",
   "id": "a55184d5",
   "metadata": {},
   "source": [
    "Since, p-value is very large.So, we can't say is there a significant difference in actual recovery amounts above and below $1000."
   ]
  },
  {
   "cell_type": "code",
   "execution_count": null,
   "id": "3ce8f7dd",
   "metadata": {},
   "outputs": [],
   "source": []
  },
  {
   "cell_type": "markdown",
   "id": "b3bdc70a",
   "metadata": {},
   "source": [
    "### Task 3: Regression Modeling"
   ]
  },
  {
   "cell_type": "markdown",
   "id": "349fa3e0",
   "metadata": {},
   "source": [
    "### No Threshold"
   ]
  },
  {
   "cell_type": "code",
   "execution_count": 12,
   "id": "1d3636bf",
   "metadata": {},
   "outputs": [
    {
     "name": "stderr",
     "output_type": "stream",
     "text": [
      "C:\\Users\\Pranshu\\Anaconda3\\lib\\site-packages\\statsmodels\\tsa\\tsatools.py:142: FutureWarning: In a future version of pandas all arguments of concat except for the argument 'objs' will be keyword-only\n",
      "  x = pd.concat(x[::order], 1)\n"
     ]
    },
    {
     "data": {
      "text/html": [
       "<table class=\"simpletable\">\n",
       "<caption>OLS Regression Results</caption>\n",
       "<tr>\n",
       "  <th>Dep. Variable:</th>    <td>actual_recovery_amount</td> <th>  R-squared:         </th> <td>   0.817</td> \n",
       "</tr>\n",
       "<tr>\n",
       "  <th>Model:</th>                      <td>OLS</td>          <th>  Adj. R-squared:    </th> <td>   0.817</td> \n",
       "</tr>\n",
       "<tr>\n",
       "  <th>Method:</th>                <td>Least Squares</td>     <th>  F-statistic:       </th> <td>   8378.</td> \n",
       "</tr>\n",
       "<tr>\n",
       "  <th>Date:</th>                <td>Wed, 24 Jan 2024</td>    <th>  Prob (F-statistic):</th>  <td>  0.00</td>  \n",
       "</tr>\n",
       "<tr>\n",
       "  <th>Time:</th>                    <td>14:17:22</td>        <th>  Log-Likelihood:    </th> <td> -16936.</td> \n",
       "</tr>\n",
       "<tr>\n",
       "  <th>No. Observations:</th>         <td>  1882</td>         <th>  AIC:               </th> <td>3.388e+04</td>\n",
       "</tr>\n",
       "<tr>\n",
       "  <th>Df Residuals:</th>             <td>  1880</td>         <th>  BIC:               </th> <td>3.389e+04</td>\n",
       "</tr>\n",
       "<tr>\n",
       "  <th>Df Model:</th>                 <td>     1</td>         <th>                     </th>     <td> </td>    \n",
       "</tr>\n",
       "<tr>\n",
       "  <th>Covariance Type:</th>         <td>nonrobust</td>       <th>                     </th>     <td> </td>    \n",
       "</tr>\n",
       "</table>\n",
       "<table class=\"simpletable\">\n",
       "<tr>\n",
       "              <td></td>                <th>coef</th>     <th>std err</th>      <th>t</th>      <th>P>|t|</th>  <th>[0.025</th>    <th>0.975]</th>  \n",
       "</tr>\n",
       "<tr>\n",
       "  <th>const</th>                    <td>-1650.4994</td> <td>   76.506</td> <td>  -21.573</td> <td> 0.000</td> <td>-1800.545</td> <td>-1500.454</td>\n",
       "</tr>\n",
       "<tr>\n",
       "  <th>expected_recovery_amount</th> <td>    2.0477</td> <td>    0.022</td> <td>   91.530</td> <td> 0.000</td> <td>    2.004</td> <td>    2.092</td>\n",
       "</tr>\n",
       "</table>\n",
       "<table class=\"simpletable\">\n",
       "<tr>\n",
       "  <th>Omnibus:</th>       <td>1477.262</td> <th>  Durbin-Watson:     </th> <td>   2.090</td> \n",
       "</tr>\n",
       "<tr>\n",
       "  <th>Prob(Omnibus):</th>  <td> 0.000</td>  <th>  Jarque-Bera (JB):  </th> <td>77458.302</td>\n",
       "</tr>\n",
       "<tr>\n",
       "  <th>Skew:</th>           <td> 3.224</td>  <th>  Prob(JB):          </th> <td>    0.00</td> \n",
       "</tr>\n",
       "<tr>\n",
       "  <th>Kurtosis:</th>       <td>33.761</td>  <th>  Cond. No.          </th> <td>5.79e+03</td> \n",
       "</tr>\n",
       "</table><br/><br/>Notes:<br/>[1] Standard Errors assume that the covariance matrix of the errors is correctly specified.<br/>[2] The condition number is large, 5.79e+03. This might indicate that there are<br/>strong multicollinearity or other numerical problems."
      ],
      "text/plain": [
       "<class 'statsmodels.iolib.summary.Summary'>\n",
       "\"\"\"\n",
       "                              OLS Regression Results                              \n",
       "==================================================================================\n",
       "Dep. Variable:     actual_recovery_amount   R-squared:                       0.817\n",
       "Model:                                OLS   Adj. R-squared:                  0.817\n",
       "Method:                     Least Squares   F-statistic:                     8378.\n",
       "Date:                    Wed, 24 Jan 2024   Prob (F-statistic):               0.00\n",
       "Time:                            14:17:22   Log-Likelihood:                -16936.\n",
       "No. Observations:                    1882   AIC:                         3.388e+04\n",
       "Df Residuals:                        1880   BIC:                         3.389e+04\n",
       "Df Model:                               1                                         \n",
       "Covariance Type:                nonrobust                                         \n",
       "============================================================================================\n",
       "                               coef    std err          t      P>|t|      [0.025      0.975]\n",
       "--------------------------------------------------------------------------------------------\n",
       "const                    -1650.4994     76.506    -21.573      0.000   -1800.545   -1500.454\n",
       "expected_recovery_amount     2.0477      0.022     91.530      0.000       2.004       2.092\n",
       "==============================================================================\n",
       "Omnibus:                     1477.262   Durbin-Watson:                   2.090\n",
       "Prob(Omnibus):                  0.000   Jarque-Bera (JB):            77458.302\n",
       "Skew:                           3.224   Prob(JB):                         0.00\n",
       "Kurtosis:                      33.761   Cond. No.                     5.79e+03\n",
       "==============================================================================\n",
       "\n",
       "Notes:\n",
       "[1] Standard Errors assume that the covariance matrix of the errors is correctly specified.\n",
       "[2] The condition number is large, 5.79e+03. This might indicate that there are\n",
       "strong multicollinearity or other numerical problems.\n",
       "\"\"\""
      ]
     },
     "execution_count": 12,
     "metadata": {},
     "output_type": "execute_result"
    }
   ],
   "source": [
    "import statsmodels.api as sm\n",
    "\n",
    "# linear regression model with no threshold\n",
    "\n",
    "X = sm.add_constant(df['expected_recovery_amount'])\n",
    "y = df['actual_recovery_amount']\n",
    "\n",
    "model_with_no_threshold = sm.OLS(y, X).fit()\n",
    "model_with_no_threshold.summary()"
   ]
  },
  {
   "cell_type": "markdown",
   "id": "b18b3a2c",
   "metadata": {},
   "source": [
    "Along with otheres the value of R-Squared is 81% \n",
    "81% of the variability suggests a strong relationship between the two variables.\n",
    "\n",
    "p-value<0.05, it suggests that the relationship is statistically significant."
   ]
  },
  {
   "cell_type": "markdown",
   "id": "d09e9a54",
   "metadata": {},
   "source": [
    "The linear regression model suggests a strong relationship between the expected recovery amount and the actual recovery amount. Approximately 81% of the variability in actual recovery amounts can be explained by changes in the expected recovery amount. The coefficient for 'expected_recovery_amount'=2.0477.\n",
    "The p-value for this coefficient is 0.00 suggesting that the relationship is statistically significant."
   ]
  },
  {
   "cell_type": "markdown",
   "id": "859a8337",
   "metadata": {},
   "source": [
    "### with True Threshold:"
   ]
  },
  {
   "cell_type": "code",
   "execution_count": 13,
   "id": "7c5ab5eb",
   "metadata": {},
   "outputs": [
    {
     "name": "stderr",
     "output_type": "stream",
     "text": [
      "C:\\Users\\Pranshu\\Anaconda3\\lib\\site-packages\\statsmodels\\tsa\\tsatools.py:142: FutureWarning: In a future version of pandas all arguments of concat except for the argument 'objs' will be keyword-only\n",
      "  x = pd.concat(x[::order], 1)\n"
     ]
    },
    {
     "data": {
      "text/html": [
       "<table class=\"simpletable\">\n",
       "<caption>OLS Regression Results</caption>\n",
       "<tr>\n",
       "  <th>Dep. Variable:</th>    <td>actual_recovery_amount</td> <th>  R-squared:         </th> <td>   0.819</td> \n",
       "</tr>\n",
       "<tr>\n",
       "  <th>Model:</th>                      <td>OLS</td>          <th>  Adj. R-squared:    </th> <td>   0.818</td> \n",
       "</tr>\n",
       "<tr>\n",
       "  <th>Method:</th>                <td>Least Squares</td>     <th>  F-statistic:       </th> <td>   4242.</td> \n",
       "</tr>\n",
       "<tr>\n",
       "  <th>Date:</th>                <td>Wed, 24 Jan 2024</td>    <th>  Prob (F-statistic):</th>  <td>  0.00</td>  \n",
       "</tr>\n",
       "<tr>\n",
       "  <th>Time:</th>                    <td>14:17:22</td>        <th>  Log-Likelihood:    </th> <td> -16926.</td> \n",
       "</tr>\n",
       "<tr>\n",
       "  <th>No. Observations:</th>         <td>  1882</td>         <th>  AIC:               </th> <td>3.386e+04</td>\n",
       "</tr>\n",
       "<tr>\n",
       "  <th>Df Residuals:</th>             <td>  1879</td>         <th>  BIC:               </th> <td>3.387e+04</td>\n",
       "</tr>\n",
       "<tr>\n",
       "  <th>Df Model:</th>                 <td>     2</td>         <th>                     </th>     <td> </td>    \n",
       "</tr>\n",
       "<tr>\n",
       "  <th>Covariance Type:</th>         <td>nonrobust</td>       <th>                     </th>     <td> </td>    \n",
       "</tr>\n",
       "</table>\n",
       "<table class=\"simpletable\">\n",
       "<tr>\n",
       "              <td></td>                <th>coef</th>     <th>std err</th>      <th>t</th>      <th>P>|t|</th>  <th>[0.025</th>    <th>0.975]</th>  \n",
       "</tr>\n",
       "<tr>\n",
       "  <th>const</th>                    <td>-1202.1199</td> <td>  125.637</td> <td>   -9.568</td> <td> 0.000</td> <td>-1448.522</td> <td> -955.718</td>\n",
       "</tr>\n",
       "<tr>\n",
       "  <th>expected_recovery_amount</th> <td>    2.0877</td> <td>    0.024</td> <td>   87.048</td> <td> 0.000</td> <td>    2.041</td> <td>    2.135</td>\n",
       "</tr>\n",
       "<tr>\n",
       "  <th>true_threshold</th>           <td> -643.3944</td> <td>  143.424</td> <td>   -4.486</td> <td> 0.000</td> <td> -924.682</td> <td> -362.107</td>\n",
       "</tr>\n",
       "</table>\n",
       "<table class=\"simpletable\">\n",
       "<tr>\n",
       "  <th>Omnibus:</th>       <td>1473.046</td> <th>  Durbin-Watson:     </th> <td>   2.113</td> \n",
       "</tr>\n",
       "<tr>\n",
       "  <th>Prob(Omnibus):</th>  <td> 0.000</td>  <th>  Jarque-Bera (JB):  </th> <td>79375.610</td>\n",
       "</tr>\n",
       "<tr>\n",
       "  <th>Skew:</th>           <td> 3.198</td>  <th>  Prob(JB):          </th> <td>    0.00</td> \n",
       "</tr>\n",
       "<tr>\n",
       "  <th>Kurtosis:</th>       <td>34.166</td>  <th>  Cond. No.          </th> <td>1.38e+04</td> \n",
       "</tr>\n",
       "</table><br/><br/>Notes:<br/>[1] Standard Errors assume that the covariance matrix of the errors is correctly specified.<br/>[2] The condition number is large, 1.38e+04. This might indicate that there are<br/>strong multicollinearity or other numerical problems."
      ],
      "text/plain": [
       "<class 'statsmodels.iolib.summary.Summary'>\n",
       "\"\"\"\n",
       "                              OLS Regression Results                              \n",
       "==================================================================================\n",
       "Dep. Variable:     actual_recovery_amount   R-squared:                       0.819\n",
       "Model:                                OLS   Adj. R-squared:                  0.818\n",
       "Method:                     Least Squares   F-statistic:                     4242.\n",
       "Date:                    Wed, 24 Jan 2024   Prob (F-statistic):               0.00\n",
       "Time:                            14:17:22   Log-Likelihood:                -16926.\n",
       "No. Observations:                    1882   AIC:                         3.386e+04\n",
       "Df Residuals:                        1879   BIC:                         3.387e+04\n",
       "Df Model:                               2                                         \n",
       "Covariance Type:                nonrobust                                         \n",
       "============================================================================================\n",
       "                               coef    std err          t      P>|t|      [0.025      0.975]\n",
       "--------------------------------------------------------------------------------------------\n",
       "const                    -1202.1199    125.637     -9.568      0.000   -1448.522    -955.718\n",
       "expected_recovery_amount     2.0877      0.024     87.048      0.000       2.041       2.135\n",
       "true_threshold            -643.3944    143.424     -4.486      0.000    -924.682    -362.107\n",
       "==============================================================================\n",
       "Omnibus:                     1473.046   Durbin-Watson:                   2.113\n",
       "Prob(Omnibus):                  0.000   Jarque-Bera (JB):            79375.610\n",
       "Skew:                           3.198   Prob(JB):                         0.00\n",
       "Kurtosis:                      34.166   Cond. No.                     1.38e+04\n",
       "==============================================================================\n",
       "\n",
       "Notes:\n",
       "[1] Standard Errors assume that the covariance matrix of the errors is correctly specified.\n",
       "[2] The condition number is large, 1.38e+04. This might indicate that there are\n",
       "strong multicollinearity or other numerical problems.\n",
       "\"\"\""
      ]
     },
     "execution_count": 13,
     "metadata": {},
     "output_type": "execute_result"
    }
   ],
   "source": [
    "# Adding true threshold i,e more than $1000\n",
    "\n",
    "df['true_threshold'] = (df['expected_recovery_amount'] > 1000).astype(int)\n",
    "\n",
    "# linear regression model with true threshold\n",
    "\n",
    "X_with_threshold = sm.add_constant(df[['expected_recovery_amount', 'true_threshold']])\n",
    "model_with_threshold = sm.OLS(y, X_with_threshold).fit()\n",
    "\n",
    "model_with_threshold.summary()\n"
   ]
  },
  {
   "cell_type": "markdown",
   "id": "0657f3c9",
   "metadata": {},
   "source": [
    "Along with otheres the value of R-Squared is 82% \n",
    "81% of the variability suggests a strong relationship between the two variables."
   ]
  },
  {
   "cell_type": "markdown",
   "id": "18c07759",
   "metadata": {},
   "source": [
    "The linear regression model suggests a strong relationship between the expected recovery amount and the actual recovery amount. Approximately 81% of the variability in actual recovery amounts can be explained by changes in the expected recovery amount. The coefficient for 'expected_recovery_amount'= 2.0877.\n",
    "stnd error for 'expected_recovery_amount' = 0.024\n",
    "The p-value for this coefficient is nrgligible, suggests that the relationship is statistically significant."
   ]
  },
  {
   "cell_type": "code",
   "execution_count": null,
   "id": "5cf948f1",
   "metadata": {},
   "outputs": [],
   "source": []
  }
 ],
 "metadata": {
  "kernelspec": {
   "display_name": "Python 3 (ipykernel)",
   "language": "python",
   "name": "python3"
  },
  "language_info": {
   "codemirror_mode": {
    "name": "ipython",
    "version": 3
   },
   "file_extension": ".py",
   "mimetype": "text/x-python",
   "name": "python",
   "nbconvert_exporter": "python",
   "pygments_lexer": "ipython3",
   "version": "3.9.7"
  }
 },
 "nbformat": 4,
 "nbformat_minor": 5
}
